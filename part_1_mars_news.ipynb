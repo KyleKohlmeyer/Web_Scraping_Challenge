{
 "cells": [
  {
   "cell_type": "markdown",
   "metadata": {},
   "source": [
    "# Module 11 Challenge\n",
    "## Deliverable 1: Scrape Titles and Preview Text from Mars News"
   ]
  },
  {
   "cell_type": "code",
   "execution_count": 1,
   "metadata": {},
   "outputs": [],
   "source": [
    "# Import selenium and BeautifulSoup\n",
    "from selenium import webdriver\n",
    "from selenium.webdriver.chrome.service import Service\n",
    "\n",
    "from webdriver_manager.chrome import ChromeDriverManager\n",
    "from bs4 import BeautifulSoup"
   ]
  },
  {
   "cell_type": "code",
   "execution_count": 2,
   "metadata": {
    "scrolled": true
   },
   "outputs": [
    {
     "name": "stdout",
     "output_type": "stream",
     "text": [
      "{'executable_path': 'C:\\\\Users\\\\kylek\\\\.wdm\\\\drivers\\\\chromedriver\\\\win64\\\\120.0.6099.109\\\\chromedriver-win32/chromedriver.exe'}\n"
     ]
    }
   ],
   "source": [
    "executable_path = {'executable_path': ChromeDriverManager().install()}\n",
    "print(executable_path)\n"
   ]
  },
  {
   "cell_type": "code",
   "execution_count": 3,
   "metadata": {},
   "outputs": [],
   "source": [
    "service = Service(executable_path=executable_path['executable_path'])\n",
    "options = webdriver.ChromeOptions()\n",
    "driver = webdriver.Chrome(service=service, options=options)"
   ]
  },
  {
   "cell_type": "markdown",
   "metadata": {},
   "source": [
    "### Step 1: Visit the Website\n",
    "\n",
    "1. Use automated browsing to visit the [Mars news site](https://static.bc-edx.com/data/web/mars_news/index.html). Inspect the page to identify which elements to scrape.\n",
    "\n",
    "      > **Hint** To identify which elements to scrape, you might want to inspect the page by using Chrome DevTools."
   ]
  },
  {
   "cell_type": "code",
   "execution_count": 4,
   "metadata": {},
   "outputs": [],
   "source": [
    "# Visit the Mars news site\n",
    "url = 'https://static.bc-edx.com/data/web/mars_news/index.html'\n",
    "\n",
    "driver.get(url)\n",
    "\n",
    "html = driver.page_source\n",
    "\n"
   ]
  },
  {
   "cell_type": "markdown",
   "metadata": {},
   "source": [
    "### Step 2: Scrape the Website\n",
    "\n",
    "Create a Beautiful Soup object and use it to extract text elements from the website."
   ]
  },
  {
   "cell_type": "code",
   "execution_count": 5,
   "metadata": {},
   "outputs": [],
   "source": [
    "# Create a Beautiful Soup object\n",
    "soup = BeautifulSoup(html, 'html.parser')"
   ]
  },
  {
   "cell_type": "code",
   "execution_count": 6,
   "metadata": {},
   "outputs": [
    {
     "name": "stdout",
     "output_type": "stream",
     "text": [
      "[<div class=\"content_title\">NASA's MAVEN Observes Martian Light Show Caused by Major Solar Storm</div>, <div class=\"content_title\">NASA Prepares to Say 'Farewell' to InSight Spacecraft</div>, <div class=\"content_title\">NASA and ESA Agree on Next Steps to Return Mars Samples to Earth</div>, <div class=\"content_title\">NASA's InSight Lander Detects Stunning Meteoroid Impact on Mars</div>, <div class=\"content_title\">NASA To Host Briefing on InSight, Mars Reconnaissance Orbiter Findings</div>, <div class=\"content_title\">Why NASA Is Trying To Crash Land on Mars</div>, <div class=\"content_title\">Curiosity Mars Rover Reaches Long-Awaited Salty Region</div>, <div class=\"content_title\">Mars Mission Shields Up for Tests</div>, <div class=\"content_title\">NASA's InSight Waits Out Dust Storm</div>, <div class=\"content_title\">NASA's InSight 'Hears' Its First Meteoroid Impacts on Mars</div>, <div class=\"content_title\">NASA's Perseverance Rover Investigates Geologically Rich Mars Terrain</div>, <div class=\"content_title\">NASA to Host Briefing on Perseverance Mars Rover Mission Operations</div>, <div class=\"content_title\">NASA's Perseverance Makes New Discoveries in Mars' Jezero Crater</div>, <div class=\"content_title\">10 Years Since Landing, NASA's Curiosity Mars Rover Still Has Drive</div>, <div class=\"content_title\">SAM's Top 5 Discoveries Aboard NASA's Curiosity Rover at Mars</div>]\n"
     ]
    }
   ],
   "source": [
    "# Extract all the text elements\n",
    "# Get all article titles\n",
    "titles = soup.find_all('div', class_ ='content_title')\n",
    "print(titles)\n",
    "# Get all article previews\n",
    "body = soup.find_all('div', class_ = 'article_teaser_body' )"
   ]
  },
  {
   "cell_type": "markdown",
   "metadata": {},
   "source": [
    "### Step 3: Store the Results\n",
    "\n",
    "Extract the titles and preview text of the news articles that you scraped. Store the scraping results in Python data structures as follows:\n",
    "\n",
    "* Store each title-and-preview pair in a Python dictionary. And, give each dictionary two keys: `title` and `preview`. An example is the following:\n",
    "\n",
    "  ```python\n",
    "  {'title': \"NASA's MAVEN Observes Martian Light Show Caused by Major Solar Storm\", \n",
    "   'preview': \"For the first time in its eight years orbiting Mars, NASA’s MAVEN mission witnessed two different types of ultraviolet aurorae simultaneously, the result of solar storms that began on Aug. 27.\"\n",
    "  }\n",
    "  ```\n",
    "\n",
    "* Store all the dictionaries in a Python list.\n",
    "\n",
    "* Print the list in your notebook."
   ]
  },
  {
   "cell_type": "code",
   "execution_count": 7,
   "metadata": {},
   "outputs": [],
   "source": [
    "# Create an empty list to store the dictionaries\n",
    "mars_list = []"
   ]
  },
  {
   "cell_type": "code",
   "execution_count": 8,
   "metadata": {},
   "outputs": [],
   "source": [
    "# Loop through the text elements\n",
    "# Extract the title and preview text from the elements\n",
    "# Store each title and preview pair in a dictionary\n",
    "# Add the dictionary to the list\n",
    "\n",
    "# Set y = 0\n",
    "y = 0\n",
    "\n",
    "for x in titles:\n",
    "    title = x.text\n",
    "    preview = body[y].text\n",
    "    y = y + 1 \n",
    "    mars_dict = {\n",
    "            \"Title\": title,\n",
    "            \"Preview\": preview\n",
    "        }\n",
    "    mars_list.append(mars_dict)"
   ]
  },
  {
   "cell_type": "code",
   "execution_count": 9,
   "metadata": {},
   "outputs": [
    {
     "name": "stdout",
     "output_type": "stream",
     "text": [
      "[{'Title': \"NASA's MAVEN Observes Martian Light Show Caused by Major Solar Storm\", 'Preview': 'For the first time in its eight years orbiting Mars, NASA’s MAVEN mission witnessed two different types of ultraviolet aurorae simultaneously, the result of solar storms that began on Aug. 27.'}, {'Title': \"NASA Prepares to Say 'Farewell' to InSight Spacecraft\", 'Preview': 'A closer look at what goes into wrapping up the mission as the spacecraft’s power supply continues to dwindle.'}, {'Title': 'NASA and ESA Agree on Next Steps to Return Mars Samples to Earth', 'Preview': 'The agency’s Perseverance rover will establish the first sample depot on Mars.'}, {'Title': \"NASA's InSight Lander Detects Stunning Meteoroid Impact on Mars\", 'Preview': 'The agency’s lander felt the ground shake during the impact while cameras aboard the Mars Reconnaissance Orbiter spotted the yawning new crater from space.'}, {'Title': 'NASA To Host Briefing on InSight, Mars Reconnaissance Orbiter Findings', 'Preview': 'Scientists from two Mars missions will discuss how they combined images and data for a major finding on the Red Planet.'}, {'Title': 'Why NASA Is Trying To Crash Land on Mars', 'Preview': 'Like a car’s crumple zone, the experimental SHIELD lander is designed to absorb a hard impact.'}, {'Title': 'Curiosity Mars Rover Reaches Long-Awaited Salty Region', 'Preview': 'After years of climbing, the Mars rover has arrived at a special region believed to have formed as Mars’ climate was drying.'}, {'Title': 'Mars Mission Shields Up for Tests', 'Preview': 'Protecting Mars Sample Return spacecraft from micrometeorites requires high-caliber work.'}, {'Title': \"NASA's InSight Waits Out Dust Storm\", 'Preview': 'InSight’s team is taking steps to help the solar-powered lander continue operating for as long as possible.'}, {'Title': \"NASA's InSight 'Hears' Its First Meteoroid Impacts on Mars\", 'Preview': 'The Mars lander’s seismometer has picked up vibrations from four separate impacts in the past two years.'}, {'Title': \"NASA's Perseverance Rover Investigates Geologically Rich Mars Terrain\", 'Preview': 'The latest findings provide greater detail on a region of the Red Planet that has a watery past and is yielding promising samples for the NASA-ESA Mars Sample Return campaign.'}, {'Title': 'NASA to Host Briefing on Perseverance Mars Rover Mission Operations', 'Preview': 'Members of the mission will discuss the rover’s activities as it gathers samples in an ancient river delta.'}, {'Title': \"NASA's Perseverance Makes New Discoveries in Mars' Jezero Crater\", 'Preview': 'The rover found that Jezero Crater’s floor is made up of volcanic rocks that have interacted with water.'}, {'Title': \"10 Years Since Landing, NASA's Curiosity Mars Rover Still Has Drive\", 'Preview': 'Despite signs of wear, the intrepid spacecraft is about to start an exciting new chapter of its mission as it climbs a Martian mountain.'}, {'Title': \"SAM's Top 5 Discoveries Aboard NASA's Curiosity Rover at Mars\", 'Preview': '“Selfie” of the Curiosity rover with inset showing the SAM instrument prior to installation on the rover.'}]\n"
     ]
    }
   ],
   "source": [
    "# Print the list to confirm success\n",
    "print(mars_list)"
   ]
  },
  {
   "cell_type": "code",
   "execution_count": 10,
   "metadata": {},
   "outputs": [],
   "source": [
    "driver.quit()"
   ]
  },
  {
   "cell_type": "code",
   "execution_count": null,
   "metadata": {},
   "outputs": [],
   "source": []
  }
 ],
 "metadata": {
  "kernelspec": {
   "display_name": "Python 3 (ipykernel)",
   "language": "python",
   "name": "python3"
  },
  "language_info": {
   "codemirror_mode": {
    "name": "ipython",
    "version": 3
   },
   "file_extension": ".py",
   "mimetype": "text/x-python",
   "name": "python",
   "nbconvert_exporter": "python",
   "pygments_lexer": "ipython3",
   "version": "3.10.13"
  },
  "vscode": {
   "interpreter": {
    "hash": "31f2aee4e71d21fbe5cf8b01ff0e069b9275f58929596ceb00d14d90e3e16cd6"
   }
  }
 },
 "nbformat": 4,
 "nbformat_minor": 4
}
